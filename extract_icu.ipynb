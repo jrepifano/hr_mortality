{
 "cells": [
  {
   "cell_type": "code",
   "execution_count": 1,
   "metadata": {
    "collapsed": true
   },
   "outputs": [],
   "source": [
    "import os\n",
    "import numpy as np\n",
    "import pandas as pd\n",
    "import dask.dataframe as dd\n",
    "import matplotlib.pyplot as plt\n",
    "from scipy.signal import medfilt\n",
    "from tsfresh.feature_extraction import feature_calculators as fc\n",
    "\n",
    "def extract_feats(ts):\n",
    "    std = fc.standard_deviation(ts)\n",
    "    kurtosis = fc.kurtosis(ts)\n",
    "    skewness = fc.skewness(ts)\n",
    "    cam = fc.count_above_mean(ts)\n",
    "    cbm = fc.count_below_mean(ts)\n",
    "    lsam = fc.longest_strike_above_mean(ts)\n",
    "    lsbm = fc.longest_strike_below_mean(ts)\n",
    "    psd = fc.fourier_entropy(ts, bins=1000000)\n",
    "    energy = fc.abs_energy(ts)\n",
    "\n",
    "    return np.array([std, kurtosis, skewness, cam, cbm, lsam, lsbm, psd, energy])"
   ]
  },
  {
   "cell_type": "code",
   "execution_count": 2,
   "outputs": [
    {
     "name": "stdout",
     "output_type": "stream",
     "text": [
      "   vitalperiodicid  patientunitstayid  observationoffset  temperature  sao2  \\\n",
      "0         37376747             141168               2059          NaN   NaN   \n",
      "1         37404957             141168               1289          NaN   NaN   \n",
      "2         37385871             141168               1794          NaN  91.0   \n",
      "3         37401664             141168               1374          NaN  90.0   \n",
      "4         37377404             141168               2039          NaN  98.0   \n",
      "\n",
      "   heartrate  respiration   cvp  etco2  systemicsystolic  systemicdiastolic  \\\n",
      "0       92.0          NaN  30.0    NaN               NaN                NaN   \n",
      "1      118.0          NaN   NaN    NaN               NaN                NaN   \n",
      "2       78.0          NaN   NaN    NaN               NaN                NaN   \n",
      "3      118.0          NaN   NaN    NaN               NaN                NaN   \n",
      "4       92.0          NaN  33.0    NaN               NaN                NaN   \n",
      "\n",
      "   systemicmean  pasystolic  padiastolic  pamean  st1  st2  st3  icp  \n",
      "0           NaN         NaN          NaN     NaN  NaN  NaN  NaN  NaN  \n",
      "1           NaN         NaN          NaN     NaN  NaN  NaN  NaN  NaN  \n",
      "2           NaN         NaN          NaN     NaN  NaN  NaN  NaN  NaN  \n",
      "3           NaN         NaN          NaN     NaN  NaN  NaN  NaN  NaN  \n",
      "4           NaN         NaN          NaN     NaN  NaN  NaN  NaN  NaN  \n"
     ]
    }
   ],
   "source": [
    "data = dd.read_csv(os.getcwd()+'/data/vitalPeriodic.csv')\n",
    "df = data[data['patientunitstayid'] == 141168].compute()\n",
    "print(df.head())"
   ],
   "metadata": {
    "collapsed": false,
    "pycharm": {
     "name": "#%%\n"
    }
   }
  },
  {
   "cell_type": "code",
   "execution_count": 3,
   "outputs": [
    {
     "data": {
      "text/plain": "     vitalperiodicid  patientunitstayid  observationoffset  temperature  \\\n15          37449174             141168                119          NaN   \n201         37448979             141168                124          NaN   \n213         37448785             141168                129          NaN   \n415         37448594             141168                134          NaN   \n177         37448402             141168                139          NaN   \n..               ...                ...                ...          ...   \n371         37368809             141168               2294          NaN   \n407         37368636             141168               2299          NaN   \n125         37368463             141168               2304          NaN   \n101         37368290             141168               2309          NaN   \n203         37368117             141168               2314          NaN   \n\n      sao2  heartrate  respiration  cvp  etco2  systemicsystolic  \\\n15    93.0      140.0          NaN  NaN    NaN               NaN   \n201    NaN      140.0          NaN  NaN    NaN               NaN   \n213    NaN      140.0          NaN  NaN    NaN               NaN   \n415    NaN      140.0          NaN  NaN    NaN               NaN   \n177    NaN      140.0          NaN  NaN    NaN               NaN   \n..     ...        ...          ...  ...    ...               ...   \n371   79.0      100.0          NaN  NaN    NaN             102.0   \n407   78.0      100.0          NaN  NaN    NaN              94.0   \n125   98.0      100.0          NaN  NaN    NaN              92.0   \n101  100.0      100.0          NaN  NaN    NaN              90.0   \n203   97.0      100.0          NaN  NaN    NaN              88.0   \n\n     systemicdiastolic  systemicmean  pasystolic  padiastolic  pamean  st1  \\\n15                 NaN           NaN         NaN          NaN     NaN  NaN   \n201                NaN           NaN         NaN          NaN     NaN  NaN   \n213                NaN           NaN         NaN          NaN     NaN  NaN   \n415                NaN           NaN         NaN          NaN     NaN  NaN   \n177                NaN           NaN         NaN          NaN     NaN  NaN   \n..                 ...           ...         ...          ...     ...  ...   \n371               84.0          94.0         NaN          NaN     NaN  NaN   \n407               78.0          88.0         NaN          NaN     NaN  NaN   \n125               62.0          80.0         NaN          NaN     NaN  NaN   \n101               76.0          78.0         NaN          NaN     NaN  NaN   \n203               54.0          70.0         NaN          NaN     NaN  NaN   \n\n     st2  st3  icp  \n15   NaN  NaN  NaN  \n201  NaN  NaN  NaN  \n213  NaN  NaN  NaN  \n415  NaN  NaN  NaN  \n177  NaN  NaN  NaN  \n..   ...  ...  ...  \n371  NaN  NaN  NaN  \n407  NaN  NaN  NaN  \n125  NaN  NaN  NaN  \n101  NaN  NaN  NaN  \n203  NaN  NaN  NaN  \n\n[419 rows x 19 columns]",
      "text/html": "<div>\n<style scoped>\n    .dataframe tbody tr th:only-of-type {\n        vertical-align: middle;\n    }\n\n    .dataframe tbody tr th {\n        vertical-align: top;\n    }\n\n    .dataframe thead th {\n        text-align: right;\n    }\n</style>\n<table border=\"1\" class=\"dataframe\">\n  <thead>\n    <tr style=\"text-align: right;\">\n      <th></th>\n      <th>vitalperiodicid</th>\n      <th>patientunitstayid</th>\n      <th>observationoffset</th>\n      <th>temperature</th>\n      <th>sao2</th>\n      <th>heartrate</th>\n      <th>respiration</th>\n      <th>cvp</th>\n      <th>etco2</th>\n      <th>systemicsystolic</th>\n      <th>systemicdiastolic</th>\n      <th>systemicmean</th>\n      <th>pasystolic</th>\n      <th>padiastolic</th>\n      <th>pamean</th>\n      <th>st1</th>\n      <th>st2</th>\n      <th>st3</th>\n      <th>icp</th>\n    </tr>\n  </thead>\n  <tbody>\n    <tr>\n      <th>15</th>\n      <td>37449174</td>\n      <td>141168</td>\n      <td>119</td>\n      <td>NaN</td>\n      <td>93.0</td>\n      <td>140.0</td>\n      <td>NaN</td>\n      <td>NaN</td>\n      <td>NaN</td>\n      <td>NaN</td>\n      <td>NaN</td>\n      <td>NaN</td>\n      <td>NaN</td>\n      <td>NaN</td>\n      <td>NaN</td>\n      <td>NaN</td>\n      <td>NaN</td>\n      <td>NaN</td>\n      <td>NaN</td>\n    </tr>\n    <tr>\n      <th>201</th>\n      <td>37448979</td>\n      <td>141168</td>\n      <td>124</td>\n      <td>NaN</td>\n      <td>NaN</td>\n      <td>140.0</td>\n      <td>NaN</td>\n      <td>NaN</td>\n      <td>NaN</td>\n      <td>NaN</td>\n      <td>NaN</td>\n      <td>NaN</td>\n      <td>NaN</td>\n      <td>NaN</td>\n      <td>NaN</td>\n      <td>NaN</td>\n      <td>NaN</td>\n      <td>NaN</td>\n      <td>NaN</td>\n    </tr>\n    <tr>\n      <th>213</th>\n      <td>37448785</td>\n      <td>141168</td>\n      <td>129</td>\n      <td>NaN</td>\n      <td>NaN</td>\n      <td>140.0</td>\n      <td>NaN</td>\n      <td>NaN</td>\n      <td>NaN</td>\n      <td>NaN</td>\n      <td>NaN</td>\n      <td>NaN</td>\n      <td>NaN</td>\n      <td>NaN</td>\n      <td>NaN</td>\n      <td>NaN</td>\n      <td>NaN</td>\n      <td>NaN</td>\n      <td>NaN</td>\n    </tr>\n    <tr>\n      <th>415</th>\n      <td>37448594</td>\n      <td>141168</td>\n      <td>134</td>\n      <td>NaN</td>\n      <td>NaN</td>\n      <td>140.0</td>\n      <td>NaN</td>\n      <td>NaN</td>\n      <td>NaN</td>\n      <td>NaN</td>\n      <td>NaN</td>\n      <td>NaN</td>\n      <td>NaN</td>\n      <td>NaN</td>\n      <td>NaN</td>\n      <td>NaN</td>\n      <td>NaN</td>\n      <td>NaN</td>\n      <td>NaN</td>\n    </tr>\n    <tr>\n      <th>177</th>\n      <td>37448402</td>\n      <td>141168</td>\n      <td>139</td>\n      <td>NaN</td>\n      <td>NaN</td>\n      <td>140.0</td>\n      <td>NaN</td>\n      <td>NaN</td>\n      <td>NaN</td>\n      <td>NaN</td>\n      <td>NaN</td>\n      <td>NaN</td>\n      <td>NaN</td>\n      <td>NaN</td>\n      <td>NaN</td>\n      <td>NaN</td>\n      <td>NaN</td>\n      <td>NaN</td>\n      <td>NaN</td>\n    </tr>\n    <tr>\n      <th>...</th>\n      <td>...</td>\n      <td>...</td>\n      <td>...</td>\n      <td>...</td>\n      <td>...</td>\n      <td>...</td>\n      <td>...</td>\n      <td>...</td>\n      <td>...</td>\n      <td>...</td>\n      <td>...</td>\n      <td>...</td>\n      <td>...</td>\n      <td>...</td>\n      <td>...</td>\n      <td>...</td>\n      <td>...</td>\n      <td>...</td>\n      <td>...</td>\n    </tr>\n    <tr>\n      <th>371</th>\n      <td>37368809</td>\n      <td>141168</td>\n      <td>2294</td>\n      <td>NaN</td>\n      <td>79.0</td>\n      <td>100.0</td>\n      <td>NaN</td>\n      <td>NaN</td>\n      <td>NaN</td>\n      <td>102.0</td>\n      <td>84.0</td>\n      <td>94.0</td>\n      <td>NaN</td>\n      <td>NaN</td>\n      <td>NaN</td>\n      <td>NaN</td>\n      <td>NaN</td>\n      <td>NaN</td>\n      <td>NaN</td>\n    </tr>\n    <tr>\n      <th>407</th>\n      <td>37368636</td>\n      <td>141168</td>\n      <td>2299</td>\n      <td>NaN</td>\n      <td>78.0</td>\n      <td>100.0</td>\n      <td>NaN</td>\n      <td>NaN</td>\n      <td>NaN</td>\n      <td>94.0</td>\n      <td>78.0</td>\n      <td>88.0</td>\n      <td>NaN</td>\n      <td>NaN</td>\n      <td>NaN</td>\n      <td>NaN</td>\n      <td>NaN</td>\n      <td>NaN</td>\n      <td>NaN</td>\n    </tr>\n    <tr>\n      <th>125</th>\n      <td>37368463</td>\n      <td>141168</td>\n      <td>2304</td>\n      <td>NaN</td>\n      <td>98.0</td>\n      <td>100.0</td>\n      <td>NaN</td>\n      <td>NaN</td>\n      <td>NaN</td>\n      <td>92.0</td>\n      <td>62.0</td>\n      <td>80.0</td>\n      <td>NaN</td>\n      <td>NaN</td>\n      <td>NaN</td>\n      <td>NaN</td>\n      <td>NaN</td>\n      <td>NaN</td>\n      <td>NaN</td>\n    </tr>\n    <tr>\n      <th>101</th>\n      <td>37368290</td>\n      <td>141168</td>\n      <td>2309</td>\n      <td>NaN</td>\n      <td>100.0</td>\n      <td>100.0</td>\n      <td>NaN</td>\n      <td>NaN</td>\n      <td>NaN</td>\n      <td>90.0</td>\n      <td>76.0</td>\n      <td>78.0</td>\n      <td>NaN</td>\n      <td>NaN</td>\n      <td>NaN</td>\n      <td>NaN</td>\n      <td>NaN</td>\n      <td>NaN</td>\n      <td>NaN</td>\n    </tr>\n    <tr>\n      <th>203</th>\n      <td>37368117</td>\n      <td>141168</td>\n      <td>2314</td>\n      <td>NaN</td>\n      <td>97.0</td>\n      <td>100.0</td>\n      <td>NaN</td>\n      <td>NaN</td>\n      <td>NaN</td>\n      <td>88.0</td>\n      <td>54.0</td>\n      <td>70.0</td>\n      <td>NaN</td>\n      <td>NaN</td>\n      <td>NaN</td>\n      <td>NaN</td>\n      <td>NaN</td>\n      <td>NaN</td>\n      <td>NaN</td>\n    </tr>\n  </tbody>\n</table>\n<p>419 rows × 19 columns</p>\n</div>"
     },
     "execution_count": 3,
     "metadata": {},
     "output_type": "execute_result"
    }
   ],
   "source": [
    "df = df.sort_values(by='observationoffset')\n",
    "df"
   ],
   "metadata": {
    "collapsed": false,
    "pycharm": {
     "name": "#%%\n"
    }
   }
  },
  {
   "cell_type": "code",
   "execution_count": 4,
   "outputs": [],
   "source": [
    "time = df['observationoffset'].to_numpy()\n",
    "time = np.cumsum(np.diff(time))\n",
    "time = np.hstack((0, time)) # Append zero for first measurement\n",
    "hr = df['heartrate'].to_numpy()"
   ],
   "metadata": {
    "collapsed": false,
    "pycharm": {
     "name": "#%%\n"
    }
   }
  },
  {
   "cell_type": "code",
   "execution_count": 5,
   "outputs": [
    {
     "data": {
      "text/plain": "<Figure size 432x288 with 1 Axes>",
      "image/png": "[encoded data removed]"
     },
     "metadata": {
      "needs_background": "light"
     },
     "output_type": "display_data"
    }
   ],
   "source": [
    "plt.plot(time, hr)\n",
    "plt.title('Raw HR data')\n",
    "plt.xlabel('Time (minutes)')\n",
    "plt.ylabel('HR (bpm)')\n",
    "plt.show()"
   ],
   "metadata": {
    "collapsed": false,
    "pycharm": {
     "name": "#%%\n"
    }
   }
  },
  {
   "cell_type": "code",
   "execution_count": 6,
   "outputs": [
    {
     "data": {
      "text/plain": "<Figure size 432x288 with 1 Axes>",
      "image/png": "[encoded data removed]"
     },
     "metadata": {
      "needs_background": "light"
     },
     "output_type": "display_data"
    }
   ],
   "source": [
    "hr = medfilt(hr, 5)\n",
    "plt.plot(time, hr)\n",
    "plt.title('Median Filtered HR data')\n",
    "plt.xlabel('Time (minutes)')\n",
    "plt.ylabel('HR (bpm)')\n",
    "plt.show()"
   ],
   "metadata": {
    "collapsed": false,
    "pycharm": {
     "name": "#%%\n"
    }
   }
  },
  {
   "cell_type": "code",
   "execution_count": 7,
   "outputs": [
    {
     "data": {
      "text/plain": "array([ 2.21950912e+01, -1.36245268e+00, -5.24785880e-01,  2.53000000e+02,\n        1.66000000e+02,  2.53000000e+02,  1.66000000e+02,  4.73754507e+00,\n        5.32394000e+06])"
     },
     "execution_count": 7,
     "metadata": {},
     "output_type": "execute_result"
    }
   ],
   "source": [
    "ts = pd.DataFrame({'time': time, 'hr': hr})\n",
    "ts = ts.interpolate()\n",
    "extract_feats(ts['hr'].to_numpy())"
   ],
   "metadata": {
    "collapsed": false,
    "pycharm": {
     "name": "#%%\n"
    }
   }
  },
  {
   "cell_type": "code",
   "execution_count": 8,
   "outputs": [
    {
     "data": {
      "text/plain": "0          141168\n1          141178\n2          141179\n3          141194\n4          141196\n           ...   \n192826    3353235\n192827    3353237\n192828    3353251\n192829    3353254\n192830    3353263\nName: patientunitstayid, Length: 192831, dtype: int64"
     },
     "execution_count": 8,
     "metadata": {},
     "output_type": "execute_result"
    }
   ],
   "source": [
    "data['patientunitstayid'].unique().compute()"
   ],
   "metadata": {
    "collapsed": false,
    "pycharm": {
     "name": "#%%\n"
    }
   }
  },
  {
   "cell_type": "code",
   "execution_count": 8,
   "outputs": [],
   "source": [],
   "metadata": {
    "collapsed": false,
    "pycharm": {
     "name": "#%%\n"
    }
   }
  }
 ],
 "metadata": {
  "kernelspec": {
   "display_name": "Python 3",
   "language": "python",
   "name": "python3"
  },
  "language_info": {
   "codemirror_mode": {
    "name": "ipython",
    "version": 2
   },
   "file_extension": ".py",
   "mimetype": "text/x-python",
   "name": "python",
   "nbconvert_exporter": "python",
   "pygments_lexer": "ipython2",
   "version": "2.7.6"
  }
 },
 "nbformat": 4,
 "nbformat_minor": 0
}